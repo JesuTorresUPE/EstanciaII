{
  "nbformat": 4,
  "nbformat_minor": 0,
  "metadata": {
    "colab": {
      "provenance": [],
      "authorship_tag": "ABX9TyM65EDvde42+S3suS+xgvM2",
      "include_colab_link": true
    },
    "kernelspec": {
      "name": "python3",
      "display_name": "Python 3"
    },
    "language_info": {
      "name": "python"
    }
  },
  "cells": [
    {
      "cell_type": "markdown",
      "metadata": {
        "id": "view-in-github",
        "colab_type": "text"
      },
      "source": [
        "<a href=\"https://colab.research.google.com/github/JesuTorresUPE/EstanciaII/blob/main/AF1_2_TFJO220203.ipynb\" target=\"_parent\"><img src=\"https://colab.research.google.com/assets/colab-badge.svg\" alt=\"Open In Colab\"/></a>"
      ]
    },
    {
      "cell_type": "code",
      "execution_count": null,
      "metadata": {
        "colab": {
          "base_uri": "https://localhost:8080/"
        },
        "id": "DXlV4fDwRL7i",
        "outputId": "d35c4b9e-1631-4d00-e53b-3ee1034cc4c1"
      },
      "outputs": [
        {
          "output_type": "stream",
          "name": "stdout",
          "text": [
            "Ingrese su nombre: Jesus\n",
            "Ingrese su edad: 20\n",
            "Ingrese su estatura175\n",
            "Hola Jesus tiene 20 años, con una estatura de 175\n"
          ]
        }
      ],
      "source": [
        "nombre = input(\"Ingrese su nombre: \")\n",
        "edad = input(\"Ingrese su edad: \");\n",
        "estatura = input(\"Ingrese su estatura(cm): \")\n",
        "\n",
        "print(\"Hola \"+nombre+\" tiene \"+edad+\" años, con una estatura de \"+estatura+\"cm\")"
      ]
    },
    {
      "cell_type": "code",
      "source": [
        "dato1 = int(input(\"Ingrese dato 1: \"))\n",
        "dato2 = int(input(\"Ingrese dato 2: \"))\n",
        "operando = input(\"¿Qué operación desea realizar (+,-,/,*)?\")\n",
        "\n",
        "if operando == \"+\":\n",
        "  res = (dato1+dato2)\n",
        "else:\n",
        "  if operando == \"-\":\n",
        "    res = (dato1-dato2)\n",
        "  elif operando == \"/\":\n",
        "      res = (dato1/dato2)\n",
        "  elif operando == \"*\":\n",
        "      res = (dato1*dato2)\n",
        "  else:\n",
        "    print(\"No existe ese operador\")\n",
        "\n",
        "print(\"El resultado es: \"+str(res))\n",
        "print(f\"El resultado es: {res}\")"
      ],
      "metadata": {
        "colab": {
          "base_uri": "https://localhost:8080/"
        },
        "id": "WNss829sTie0",
        "outputId": "9305ecb1-a500-4244-9e89-be9f127c137c"
      },
      "execution_count": null,
      "outputs": [
        {
          "output_type": "stream",
          "name": "stdout",
          "text": [
            "Ingrese dato 1: 10\n",
            "Ingrese dato 2: 5\n",
            "¿Qué operación desea realizar (+,-,/,*)?+\n",
            "El resultado es: 15\n",
            "El resultado es: 15\n"
          ]
        }
      ]
    },
    {
      "cell_type": "code",
      "source": [
        "# ' Programa que defina una lista de números, en una función capture información para almacenarlos en ella y calcule el promedio de los datos el cual debe ser retornado.\n",
        "def promedioLista():\n",
        "  longitud = int(input(\"Ingrese la cantidad de datos que desea que tenga la lista: \"))\n",
        "\n",
        "  lista = []\n",
        "\n",
        "  for i in range(longitud):\n",
        "    dato = float(input(f\"Ingrese el dato {i + 1}: \"))\n",
        "    lista.append(dato)\n",
        "\n",
        "  promedio = sum(lista) / len(lista)\n",
        "\n",
        "  return promedio\n",
        "\n",
        "prom = promedioLista()\n",
        "\n",
        "print(f\"El promedio es: {prom}\")"
      ],
      "metadata": {
        "id": "fhMb3HpyXSk0",
        "colab": {
          "base_uri": "https://localhost:8080/"
        },
        "outputId": "3ff5d8a2-66ba-44c0-de93-845d96da590c"
      },
      "execution_count": 8,
      "outputs": [
        {
          "output_type": "stream",
          "name": "stdout",
          "text": [
            "Ingrese la cantidad de datos que desea que tenga la lista: 5\n",
            "Ingrese el dato 1: 1\n",
            "Ingrese el dato 2: 2\n",
            "Ingrese el dato 3: 3\n",
            "Ingrese el dato 4: 4\n",
            "Ingrese el dato 5: 5\n",
            "El promedio es: 3.0\n"
          ]
        }
      ]
    }
  ]
}